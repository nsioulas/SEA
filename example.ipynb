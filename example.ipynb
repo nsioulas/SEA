{
 "cells": [
  {
   "cell_type": "markdown",
   "id": "397befbb-2310-4332-99d3-ec3eaa7eec44",
   "metadata": {},
   "source": [
    "### Import libraries"
   ]
  },
  {
   "cell_type": "code",
   "execution_count": null,
   "id": "e89b794c-2b80-472a-8ac0-99f17d99af79",
   "metadata": {},
   "outputs": [],
   "source": [
    "import pandas as pd\n",
    "import numpy as np\n",
    "import matplotlib.pyplot as plt\n",
    "from datetime import datetime, timedelta\n",
    "from SEA import SEA "
   ]
  },
  {
   "cell_type": "markdown",
   "id": "6c69ae20-8d28-437c-bde6-f68b475be5b1",
   "metadata": {},
   "source": [
    "### An example of how to use SEA"
   ]
  },
  {
   "cell_type": "code",
   "execution_count": 3,
   "id": "0d469838-8cc5-42d7-870c-e80954bcaa14",
   "metadata": {},
   "outputs": [
    {
     "data": {
      "text/plain": [
       "Text(0, 0.5, '$SEA (Tp)$')"
      ]
     },
     "execution_count": 3,
     "metadata": {},
     "output_type": "execute_result"
    },
    {
     "data": {
      "image/png": "[encoded data removed]",
      "text/plain": [
       "<Figure size 432x288 with 1 Axes>"
      ]
     },
     "metadata": {
      "needs_background": "light"
     },
     "output_type": "display_data"
    }
   ],
   "source": [
    "# User defined parameters\n",
    "time_around        = '30s'                           # Time around identified events to consider\n",
    "which_one          =  'Tp'                           #  The parameter on the y axis\n",
    "mean_or_median     =  1                              # Create mean (T) or median (F)\n",
    "resample_rate      =  '100ms'                        # The cadence to resample final timeseries.\n",
    "condit_variables   = ['sigma_c', 'sigma_r']          # The variables to apply conditions on\n",
    "conditions         = [['>=','<='], ['>=','<='] ]     # What kind of conditions?\n",
    "threshold_values   = [[0.75, 1], [-0.15, 0.1]]       # Thresholds for each condition\n",
    "\n",
    "\n",
    "# Create random sig_c, sig_r that take values within (0,1) and (-1,1) respectively\n",
    "sig_c = np.random.rand(int(1e5))\n",
    "sig_r =  np.random.uniform(-1, 1, int(1e5))\n",
    "\n",
    "# Create T that takes a uniform falue\n",
    "T     = np.ones(int(1e5))\n",
    "\n",
    "# Increase T when conditions are met for min repoducible example\n",
    "T[(sig_c>0.75) & ((sig_r>-0.15)& (sig_r<0.1))] = 100* T[((sig_c>0.75) &(sig_c<1)) & ((sig_r>-0.15)& (sig_r<0.1))]\n",
    "\n",
    "\n",
    "# get current date and time\n",
    "now = datetime.now()\n",
    "\n",
    "# calculate end date as 5 hours from now\n",
    "end_date = now + timedelta(hours=5)\n",
    "\n",
    "# create datetime index with start date of now, end date of 5 hours from now, and frequency of 1 second\n",
    "index = pd.date_range(start=now, end=end_date, periods=int(1e5))\n",
    "\n",
    "# Create Dataframe\n",
    "df = pd.DataFrame({'DateTime':index, 'sigma_c':sig_c, 'sigma_r':sig_r, 'Tp':T}).set_index('DateTime')\n",
    "\n",
    "\n",
    "\n",
    "# Run SEA function\n",
    "xvals, yvals, y_std, y_std_err_mean  = SEA(df,\n",
    "                                              condit_variables,\n",
    "                                              threshold_values,\n",
    "                                              conditions,\n",
    "                                              time_around,\n",
    "                                              which_one,\n",
    "                                              mean_or_median,\n",
    "                                              resample_rate)\n",
    "\n",
    "# Plot\n",
    "plt.plot(xvals, yvals, ls='-', ms=1)\n",
    "\n",
    "plt.xlabel(r'$\\delta \\tau ~ [s]$')\n",
    "plt.ylabel(r'$SEA (Tp)$')"
   ]
  }
 ],
 "metadata": {
  "kernelspec": {
   "display_name": "Python 3 (ipykernel)",
   "language": "python",
   "name": "python3"
  },
  "language_info": {
   "codemirror_mode": {
    "name": "ipython",
    "version": 3
   },
   "file_extension": ".py",
   "mimetype": "text/x-python",
   "name": "python",
   "nbconvert_exporter": "python",
   "pygments_lexer": "ipython3",
   "version": "3.10.4"
  }
 },
 "nbformat": 4,
 "nbformat_minor": 5
}
